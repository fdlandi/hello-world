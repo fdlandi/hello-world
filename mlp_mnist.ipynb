{
  "nbformat": 4,
  "nbformat_minor": 0,
  "metadata": {
    "colab": {
      "name": "mlp_mnist.ipynb",
      "provenance": []
    },
    "kernelspec": {
      "name": "python3",
      "display_name": "Python 3"
    }
  },
  "cells": [
    {
      "cell_type": "code",
      "metadata": {
        "id": "dGY1qjugVJFt",
        "colab_type": "code",
        "colab": {}
      },
      "source": [
        "import matplotlib.pyplot as plt\n",
        "import numpy as np\n",
        "\n",
        "import torch\n",
        "import torch.nn as nn\n",
        "import torchvision"
      ],
      "execution_count": 0,
      "outputs": []
    },
    {
      "cell_type": "code",
      "metadata": {
        "id": "z3ysp0qZWD1C",
        "colab_type": "code",
        "colab": {}
      },
      "source": [
        "trainset = torchvision.datasets.MNIST(root='./data',\n",
        "                                      train=True, \n",
        "                                      download=True,\n",
        "                                      transform=torchvision.transforms.ToTensor())\n",
        "\n",
        "testset = torchvision.datasets.MNIST(root='./data',\n",
        "                                     train=False, \n",
        "                                     download=True,\n",
        "                                     transform=torchvision.transforms.ToTensor())"
      ],
      "execution_count": 0,
      "outputs": []
    },
    {
      "cell_type": "code",
      "metadata": {
        "id": "hVNMfs-zkfcW",
        "colab_type": "code",
        "colab": {}
      },
      "source": [
        "batch_size = 4\n",
        "\n",
        "trainloader = torch.utils.data.DataLoader(trainset,\n",
        "                                          batch_size=batch_size,\n",
        "                                          num_workers=0,\n",
        "                                          shuffle=True)\n",
        "\n",
        "testloader = torch.utils.data.DataLoader(testset,\n",
        "                                         batch_size=batch_size,\n",
        "                                         num_workers=0,\n",
        "                                         shuffle=True)"
      ],
      "execution_count": 0,
      "outputs": []
    },
    {
      "cell_type": "code",
      "metadata": {
        "id": "LL4FA-XeXN_V",
        "colab_type": "code",
        "colab": {}
      },
      "source": [
        "def imshow(img):\n",
        "  np_img = img.numpy()\n",
        "  plt.imshow(np.transpose(np_img, (1, 2, 0)))\n",
        "  plt.show()"
      ],
      "execution_count": 0,
      "outputs": []
    },
    {
      "cell_type": "code",
      "metadata": {
        "id": "sa_jZyqMZUEO",
        "colab_type": "code",
        "outputId": "1efa95c4-f05d-4203-f1de-0d17197791c8",
        "colab": {
          "base_uri": "https://localhost:8080/",
          "height": 155
        }
      },
      "source": [
        "dataiter = iter(trainloader)\n",
        "images, labels = dataiter.next()\n",
        "imshow(torchvision.utils.make_grid(images))\n",
        "print(labels)"
      ],
      "execution_count": 5,
      "outputs": [
        {
          "output_type": "display_data",
          "data": {
            "image/png": "[encoded data removed]",
            "text/plain": [
              "<Figure size 432x288 with 1 Axes>"
            ]
          },
          "metadata": {
            "tags": []
          }
        },
        {
          "output_type": "stream",
          "text": [
            "tensor([7, 7, 7, 7])\n"
          ],
          "name": "stdout"
        }
      ]
    },
    {
      "cell_type": "code",
      "metadata": {
        "id": "Nv-NzZvcaEIG",
        "colab_type": "code",
        "colab": {}
      },
      "source": [
        "in_features, hidden_size_1, hidden_size_2, output_size = 28*28, 256, 64, 10\n",
        "\n",
        "model = nn.Sequential(\n",
        "    nn.Flatten(),\n",
        "    nn.Linear(in_features, hidden_size_1),\n",
        "    nn.ReLU(),\n",
        "    nn.Linear(hidden_size_1, hidden_size_2),\n",
        "    nn.ReLU(),\n",
        "    nn.Linear(hidden_size_2, output_size)\n",
        ")\n",
        "\n",
        "loss_fn = nn.CrossEntropyLoss()"
      ],
      "execution_count": 0,
      "outputs": []
    },
    {
      "cell_type": "code",
      "metadata": {
        "id": "wD94RrDEnXvY",
        "colab_type": "code",
        "colab": {}
      },
      "source": [
        "def predict(model, data, loss_fn):\n",
        "  images, labels = data\n",
        "  \n",
        "  # forward pass: model makes prediction\n",
        "  out = model(images)\n",
        "\n",
        "  # computes loss and accuracy\n",
        "  loss = loss_fn(out, labels)\n",
        "  _, pred = torch.max(out, 1)\n",
        "  total = labels.shape[0]\n",
        "  correct = (pred == labels).sum().item()\n",
        "\n",
        "  # returns statistics\n",
        "  return loss, total, correct \n"
      ],
      "execution_count": 0,
      "outputs": []
    },
    {
      "cell_type": "code",
      "metadata": {
        "id": "4sBbyh_5k1xm",
        "colab_type": "code",
        "colab": {}
      },
      "source": [
        "def train_epoch(model, optimizer, trainloader):\n",
        "  # reset epoch statistics\n",
        "  running_loss = 0.0\n",
        "  total, correct = 0.0, 0.0\n",
        "\n",
        "  for i, data in enumerate(trainloader, 1):\n",
        "    # training step\n",
        "    optimizer.zero_grad()\n",
        "    loss, total_step, correct_step = predict(model, data, loss_fn)\n",
        "    loss.backward()\n",
        "    optimizer.step()\n",
        "\n",
        "    # update statistics\n",
        "    total += total_step\n",
        "    correct += correct_step\n",
        "    running_loss += loss.item()\n",
        "\n",
        "    # print info\n",
        "    if i % log_every == 0:\n",
        "      print('Iter {} - Loss: {:.4f}'.format(i, running_loss/log_every))\n",
        "      running_loss = 0.0\n",
        "\n",
        "  return 100*correct/total"
      ],
      "execution_count": 0,
      "outputs": []
    },
    {
      "cell_type": "code",
      "metadata": {
        "id": "UCxOkwImnBp2",
        "colab_type": "code",
        "colab": {}
      },
      "source": [
        "def evaluate(model, testloader):\n",
        "  running_loss = 0.0\n",
        "  total, correct = 0.0, 0.0\n",
        "\n",
        "  for i, data in enumerate(testloader, 1):\n",
        "    # forward function\n",
        "    loss, total_step, correct_step = predict(model, data, loss_fn)\n",
        "\n",
        "    # update statistics\n",
        "    total += total_step\n",
        "    correct += correct_step\n",
        "    running_loss += loss.item()\n",
        "\n",
        "  # print info\n",
        "  print('Test loss: {:.4f}'.format(running_loss/i))\n",
        "  running_loss = 0.0\n",
        "\n",
        "  return 100*correct/total"
      ],
      "execution_count": 0,
      "outputs": []
    },
    {
      "cell_type": "code",
      "metadata": {
        "id": "3LuiMwtAcb38",
        "colab_type": "code",
        "outputId": "ada24483-3d57-4a8c-d5bf-ad53e5914361",
        "colab": {
          "base_uri": "https://localhost:8080/",
          "height": 382
        }
      },
      "source": [
        "learning_rate = 1e-3\n",
        "optimizer = torch.optim.SGD(model.parameters(), lr=learning_rate)\n",
        "num_epoch = 4\n",
        "log_every = 5000\n",
        "\n",
        "model.train()\n",
        "for epoch in range(num_epoch):\n",
        "  print('Starting Epoch {}/{}...'.format(epoch+1, num_epoch))\n",
        "  accuracy = train_epoch(model, optimizer, trainloader)\n",
        "  print('Epoch {} - Accuracy: {:.2f}%'.format(epoch+1, accuracy))\n",
        "  \n",
        "print('Finished training')"
      ],
      "execution_count": 10,
      "outputs": [
        {
          "output_type": "stream",
          "text": [
            "Starting Epoch 1/4...\n",
            "Iter 5000 - Loss: 2.1312\n",
            "Iter 10000 - Loss: 1.1761\n",
            "Iter 15000 - Loss: 0.6164\n",
            "Epoch 1 - Accuracy: 64.08%\n",
            "Starting Epoch 2/4...\n",
            "Iter 5000 - Loss: 0.4650\n",
            "Iter 10000 - Loss: 0.4031\n",
            "Iter 15000 - Loss: 0.3632\n",
            "Epoch 2 - Accuracy: 88.65%\n",
            "Starting Epoch 3/4...\n",
            "Iter 5000 - Loss: 0.3413\n",
            "Iter 10000 - Loss: 0.3278\n",
            "Iter 15000 - Loss: 0.3144\n",
            "Epoch 3 - Accuracy: 90.67%\n",
            "Starting Epoch 4/4...\n",
            "Iter 5000 - Loss: 0.3051\n",
            "Iter 10000 - Loss: 0.2858\n",
            "Iter 15000 - Loss: 0.2819\n",
            "Epoch 4 - Accuracy: 91.65%\n",
            "Finished training\n"
          ],
          "name": "stdout"
        }
      ]
    },
    {
      "cell_type": "code",
      "metadata": {
        "id": "EVWQrg4VmoM2",
        "colab_type": "code",
        "colab": {
          "base_uri": "https://localhost:8080/",
          "height": 52
        },
        "outputId": "57d7e8b8-1d9b-4bce-d09c-ca492722e8f8"
      },
      "source": [
        "model.eval()\n",
        "with torch.no_grad():\n",
        "  accuracy = evaluate(model, testloader)\n",
        "  print('Test accuracy: {:.2f}%'.format(accuracy))"
      ],
      "execution_count": 11,
      "outputs": [
        {
          "output_type": "stream",
          "text": [
            "Test loss: 0.2680\n",
            "Test accuracy: 92.49%\n"
          ],
          "name": "stdout"
        }
      ]
    },
    {
      "cell_type": "code",
      "metadata": {
        "id": "dHLEXOVZkIIO",
        "colab_type": "code",
        "outputId": "dab5d9a2-22e5-4d5c-c488-c70132980051",
        "colab": {
          "base_uri": "https://localhost:8080/",
          "height": 173
        }
      },
      "source": [
        "dataiter = iter(testloader)\n",
        "images, labels = dataiter.next()\n",
        "\n",
        "model.eval()\n",
        "out = model(images)\n",
        "_, pred = torch.max(out, 1)\n",
        "\n",
        "imshow(torchvision.utils.make_grid(images))\n",
        "print('predette: {}'.format(pred))\n",
        "print('corrette: {}'.format(labels))"
      ],
      "execution_count": 12,
      "outputs": [
        {
          "output_type": "display_data",
          "data": {
            "image/png": "[encoded data removed]",
            "text/plain": [
              "<Figure size 432x288 with 1 Axes>"
            ]
          },
          "metadata": {
            "tags": []
          }
        },
        {
          "output_type": "stream",
          "text": [
            "predette: tensor([4, 3, 7, 6])\n",
            "corrette: tensor([4, 3, 7, 6])\n"
          ],
          "name": "stdout"
        }
      ]
    }
  ]
}