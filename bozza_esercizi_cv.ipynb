{
  "nbformat": 4,
  "nbformat_minor": 0,
  "metadata": {
    "colab": {
      "name": "Untitled4.ipynb",
      "provenance": [],
      "collapsed_sections": []
    },
    "kernelspec": {
      "name": "python3",
      "display_name": "Python 3"
    }
  },
  "cells": [
    {
      "cell_type": "code",
      "metadata": {
        "id": "1KJlJRWJ6XGV",
        "colab_type": "code",
        "outputId": "7c91e652-7c6d-423f-abfc-fc5c26be778a",
        "colab": {
          "base_uri": "https://localhost:8080/",
          "height": 85
        }
      },
      "source": [
        "import numpy as np\n",
        "\n",
        "# np.array([1,2,3],dtype=float)\n",
        "a = np.array([1,2.3,3],dtype=np.float32)\n",
        "b = np.array([1,2,3],dtype=np.int8)\n",
        "\n",
        "# a[1]\n",
        "# b[1]\n",
        "\n",
        "c = np.array([[1,2,3],[4,5,6]], dtype=np.int32)\n",
        "# c.shape\n",
        "c[:,0]\n",
        "\n",
        "# c.reshape(3,2)\n",
        "# c.reshape(-1)\n",
        "# c.flatten()\n",
        "\n",
        "zeri = np.zeros(shape=(2,3), dtype=np.uint8)\n",
        "# zeri\n",
        "\n",
        "a = np.array([[1],[1]], dtype=int)\n",
        "b = np.array([[1],[1]], dtype=int)\n",
        "# b = np.array([3,4], dtype=int)\n",
        "\n",
        "a.shape\n",
        "\n",
        "d = np.concatenate((a,b),axis=1)\n",
        "d.shape\n",
        "\n",
        "diag = np.eye(4)\n",
        "diag[diag==0] = 9\n",
        "diag\n",
        "\n"
      ],
      "execution_count": 0,
      "outputs": [
        {
          "output_type": "execute_result",
          "data": {
            "text/plain": [
              "array([[1., 9., 9., 9.],\n",
              "       [9., 1., 9., 9.],\n",
              "       [9., 9., 1., 9.],\n",
              "       [9., 9., 9., 1.]])"
            ]
          },
          "metadata": {
            "tags": []
          },
          "execution_count": 60
        }
      ]
    },
    {
      "cell_type": "code",
      "metadata": {
        "id": "pIFtV4qdLeFO",
        "colab_type": "code",
        "outputId": "ef7ae374-ffd0-456d-e517-52adc583865d",
        "colab": {
          "base_uri": "https://localhost:8080/",
          "height": 34
        }
      },
      "source": [
        "import numpy as np\n",
        "from path import Path\n",
        "import cv2\n",
        "\n",
        "out_dir = Path(\"/content/drive/My Drive/out_folder\")\n",
        "\n",
        "img = np.zeros(shape=(200,200),dtype=np.uint8)\n",
        "img_1 = np.ones(shape=(200,200),dtype=np.uint8) * 127\n",
        "\n",
        "# cv2.imwrite(out_dir / \"zeri.jpg\", img)\n",
        "# cv2.imwrite(out_dir / \"zeri.png\", img)\n",
        "# cv2.imwrite(out_dir / \"zeri.jpg\", img_1)\n",
        "# cv2.imwrite(out_dir / \"zeri.png\", img_1)\n",
        "\n",
        "# img = np.zeros(shape=(200,200),dtype=np.uint8)\n",
        "# print(img.shape)\n",
        "# img[0,0] = 255\n",
        "# print(img)\n",
        "\n",
        "# img_ = np.zeros(shape=(200,200,1),dtype=np.uint8)\n",
        "# print(img_.shape)\n",
        "# img_[0,0] = 255\n",
        "# print(img_)\n",
        "\n",
        "r = np.zeros(shape=(200,200,1),dtype=np.uint8) + 255\n",
        "g = np.zeros(shape=(200,200,1),dtype=np.uint8)\n",
        "b = np.zeros(shape=(200,200,1),dtype=np.uint8)\n",
        "# print(r.shape)\n",
        "# rgb = np.concatenate((r,g,b),axis=2)\n",
        "## per opencv\n",
        "rgb = np.concatenate((b,g,r),axis=2)\n",
        "cv2.imwrite(out_dir / \"red.jpg\", rgb)\n",
        "\n",
        "\n"
      ],
      "execution_count": 0,
      "outputs": [
        {
          "output_type": "execute_result",
          "data": {
            "text/plain": [
              "True"
            ]
          },
          "metadata": {
            "tags": []
          },
          "execution_count": 101
        }
      ]
    },
    {
      "cell_type": "code",
      "metadata": {
        "id": "k8WoZTDpdbId",
        "colab_type": "code",
        "outputId": "7fc213cf-8033-4ebc-ced8-1f236958948e",
        "colab": {
          "base_uri": "https://localhost:8080/",
          "height": 88
        }
      },
      "source": [
        "import numpy as np\n",
        "from path import Path\n",
        "import cv2\n",
        "\n",
        "def calc_hist(img):\n",
        "  hist = [0 for i in range(256)]\n",
        "  # for i in range(256):\n",
        "    # hist[i] = img_gray[img_gray==i].shape[0]\n",
        "  for pixel in img.flatten():\n",
        "    hist[pixel] += 1\n",
        "  return hist\n",
        "\n",
        "base_dir = Path(\"/content/drive/My Drive/out_folder\")\n",
        "\n",
        "# leggiamo immagine a colori, leggiamo immagine senza effettuare modifiche al color space\n",
        "img_color = cv2.imread(base_dir / \"1.jpg\")\n",
        "img_color.shape\n",
        "\n",
        "img_gray = cv2.imread(base_dir / \"1.jpg\", 0)\n",
        "img_gray.shape\n",
        "\n",
        "img_gray_2 = cv2.cvtColor(img_color,cv2.COLOR_BGR2GRAY)\n",
        "img_gray_2.shape\n",
        "\n",
        "img_gray[img_gray <= 127] = 0\n",
        "print(calc_hist(img_gray))\n",
        "img_gray[img_gray > 0] = 255\n",
        "print(calc_hist(img_gray))\n",
        "\n",
        "cv2.imwrite(base_dir / \"binarizzata.jpg\", img_gray)\n"
      ],
      "execution_count": 0,
      "outputs": [
        {
          "output_type": "stream",
          "text": [
            "[616306, 0, 0, 0, 0, 0, 0, 0, 0, 0, 0, 0, 0, 0, 0, 0, 0, 0, 0, 0, 0, 0, 0, 0, 0, 0, 0, 0, 0, 0, 0, 0, 0, 0, 0, 0, 0, 0, 0, 0, 0, 0, 0, 0, 0, 0, 0, 0, 0, 0, 0, 0, 0, 0, 0, 0, 0, 0, 0, 0, 0, 0, 0, 0, 0, 0, 0, 0, 0, 0, 0, 0, 0, 0, 0, 0, 0, 0, 0, 0, 0, 0, 0, 0, 0, 0, 0, 0, 0, 0, 0, 0, 0, 0, 0, 0, 0, 0, 0, 0, 0, 0, 0, 0, 0, 0, 0, 0, 0, 0, 0, 0, 0, 0, 0, 0, 0, 0, 0, 0, 0, 0, 0, 0, 0, 0, 0, 0, 97, 89, 95, 93, 92, 111, 90, 98, 105, 92, 89, 90, 94, 90, 92, 94, 95, 106, 106, 104, 78, 90, 100, 82, 84, 101, 105, 100, 80, 90, 116, 112, 98, 103, 90, 101, 108, 98, 119, 104, 93, 95, 100, 104, 134, 112, 129, 94, 109, 148, 105, 110, 135, 139, 141, 140, 153, 153, 152, 139, 139, 148, 153, 181, 157, 145, 187, 172, 177, 177, 152, 202, 194, 197, 182, 202, 217, 210, 212, 236, 225, 225, 246, 263, 230, 266, 288, 313, 305, 326, 324, 335, 325, 376, 383, 395, 413, 415, 466, 499, 499, 557, 566, 574, 570, 650, 728, 699, 756, 844, 929, 1029, 1125, 1200, 1319, 1538, 1840, 2170, 2878, 3923, 5337, 7369, 10005, 13379, 17063, 20998, 22432, 32525]\n",
            "[616306, 0, 0, 0, 0, 0, 0, 0, 0, 0, 0, 0, 0, 0, 0, 0, 0, 0, 0, 0, 0, 0, 0, 0, 0, 0, 0, 0, 0, 0, 0, 0, 0, 0, 0, 0, 0, 0, 0, 0, 0, 0, 0, 0, 0, 0, 0, 0, 0, 0, 0, 0, 0, 0, 0, 0, 0, 0, 0, 0, 0, 0, 0, 0, 0, 0, 0, 0, 0, 0, 0, 0, 0, 0, 0, 0, 0, 0, 0, 0, 0, 0, 0, 0, 0, 0, 0, 0, 0, 0, 0, 0, 0, 0, 0, 0, 0, 0, 0, 0, 0, 0, 0, 0, 0, 0, 0, 0, 0, 0, 0, 0, 0, 0, 0, 0, 0, 0, 0, 0, 0, 0, 0, 0, 0, 0, 0, 0, 0, 0, 0, 0, 0, 0, 0, 0, 0, 0, 0, 0, 0, 0, 0, 0, 0, 0, 0, 0, 0, 0, 0, 0, 0, 0, 0, 0, 0, 0, 0, 0, 0, 0, 0, 0, 0, 0, 0, 0, 0, 0, 0, 0, 0, 0, 0, 0, 0, 0, 0, 0, 0, 0, 0, 0, 0, 0, 0, 0, 0, 0, 0, 0, 0, 0, 0, 0, 0, 0, 0, 0, 0, 0, 0, 0, 0, 0, 0, 0, 0, 0, 0, 0, 0, 0, 0, 0, 0, 0, 0, 0, 0, 0, 0, 0, 0, 0, 0, 0, 0, 0, 0, 0, 0, 0, 0, 0, 0, 0, 0, 0, 0, 0, 0, 0, 0, 0, 0, 0, 0, 0, 0, 0, 0, 0, 0, 170126]\n"
          ],
          "name": "stdout"
        },
        {
          "output_type": "execute_result",
          "data": {
            "text/plain": [
              "True"
            ]
          },
          "metadata": {
            "tags": []
          },
          "execution_count": 119
        }
      ]
    }
  ]
}