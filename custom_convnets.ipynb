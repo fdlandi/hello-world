{
 "cells": [
  {
   "cell_type": "code",
   "execution_count": 0,
   "metadata": {
    "id": "dGY1qjugVJFt",
    "colab_type": "code",
    "colab": {}
   },
   "outputs": [],
   "source": [
    "import matplotlib.pyplot as plt\n",
    "import numpy as np\n",
    "import sys\n",
    "\n",
    "import torch\n",
    "import torch.nn as nn\n",
    "import torchvision\n",
    "import torchvision.transforms as T"
   ]
  },
  {
   "cell_type": "code",
   "execution_count": 2,
   "metadata": {
    "id": "z3ysp0qZWD1C",
    "colab_type": "code",
    "outputId": "da3aad15-af7b-43b6-8386-f3dfcfc7f0ae",
    "colab": {
     "base_uri": "https://localhost:8080/",
     "height": 442.0
    }
   },
   "outputs": [
    {
     "name": "stderr",
     "output_type": "stream",
     "text": [
      "\r0it [00:00, ?it/s]"
     ]
    },
    {
     "name": "stdout",
     "output_type": "stream",
     "text": [
      "Downloading dataset...\n",
      "Downloading https://www.cs.toronto.edu/~kriz/cifar-100-python.tar.gz to ./data/cifar-100-python.tar.gz\n"
     ]
    },
    {
     "name": "stderr",
     "output_type": "stream",
     "text": [
      "169009152it [00:02, 65632305.63it/s]                               \n"
     ]
    },
    {
     "name": "stdout",
     "output_type": "stream",
     "text": [
      "Extracting ./data/cifar-100-python.tar.gz to ./data\n",
      "Files already downloaded and verified\n",
      "Done!\n",
      "\n",
      "Creating dataloaders...\n",
      "Done!\n",
      "\n",
      "Dataset statistics:\n",
      "  Trainset size = 50000\n",
      "  Testset size = 10000\n",
      "  Number of classes = 100\n",
      "\n",
      "Samples:\n"
     ]
    },
    {
     "data": {
      "image/png": "[encoded data removed]",
      "text/plain": [
       "<Figure size 432x288 with 1 Axes>"
      ]
     },
     "metadata": {
      "tags": []
     },
     "output_type": "display_data"
    },
    {
     "name": "stdout",
     "output_type": "stream",
     "text": [
      "['aquarium_fish', 'cup', 'rose', 'mountain', 'possum', 'possum', 'caterpillar', 'house']\n",
      "\n",
      "Setting up device conf...\n",
      "Using device: cuda:0\n"
     ]
    }
   ],
   "source": [
    "batch_size = 100\n",
    "\n",
    "transform = T.Compose([\n",
    "                       T.ToTensor(),\n",
    "                       T.Normalize((0.5, 0.5, 0.5), (0.5, 0.5, 0.5))\n",
    "])\n",
    "\n",
    "print('Downloading dataset...')\n",
    "trainset = torchvision.datasets.CIFAR100(root='./data',\n",
    "                                         train=True,\n",
    "                                         download=True,\n",
    "                                         transform=transform)\n",
    "testset = torchvision.datasets.CIFAR100(root='./data',\n",
    "                                        train=False, \n",
    "                                        download=True,\n",
    "                                        transform=transform)\n",
    "print('Done!\\n')\n",
    "\n",
    "print('Creating dataloaders...')\n",
    "trainloader = torch.utils.data.DataLoader(trainset,\n",
    "                                          batch_size=batch_size,\n",
    "                                          num_workers=4,\n",
    "                                          shuffle=True)\n",
    "testloader = torch.utils.data.DataLoader(testset,\n",
    "                                         batch_size=batch_size,\n",
    "                                         num_workers=4,\n",
    "                                         shuffle=True)\n",
    "print('Done!\\n')\n",
    "\n",
    "sizes = dict()\n",
    "sizes['train'] = len(trainset)\n",
    "sizes['test'] = len(testset)\n",
    "classes = testset.classes\n",
    "\n",
    "print('Dataset statistics:')\n",
    "print('  Trainset size = {}'.format(sizes['train']))\n",
    "print('  Testset size = {}'.format(sizes['test']))\n",
    "print('  Number of classes = {}'.format(len(classes)))\n",
    "\n",
    "print()\n",
    "print('Samples:')\n",
    "\n",
    "def imshow(img):\n",
    "  np_img = img.numpy()\n",
    "  plt.imshow(np.transpose(np_img, (1, 2, 0)))\n",
    "  plt.show()\n",
    "\n",
    "dataiter = iter(trainloader)\n",
    "images, labels = dataiter.next()\n",
    "imshow(torchvision.utils.make_grid(images[:8] / 2 + 0.5))\n",
    "gt_labels = [classes[l] for l in labels[:8]]\n",
    "print(gt_labels)\n",
    "\n",
    "print()\n",
    "print('Setting up device conf...')\n",
    "if torch.cuda.is_available():\n",
    "  device = torch.device('cuda:0')\n",
    "else:\n",
    "  device = torch.device('cpu')\n",
    "print('Using device: {}'.format(device))"
   ]
  },
  {
   "cell_type": "code",
   "execution_count": 0,
   "metadata": {
    "id": "wD94RrDEnXvY",
    "colab_type": "code",
    "colab": {}
   },
   "outputs": [],
   "source": [
    "def progress_bar(iteration, total, length=100, prefix='', suffix=''):\n",
    "  percentage = iteration / total\n",
    "  completed = int(percentage * length)\n",
    "  progress_bar = '|'+ '-'*completed + '>' + ' '*(length-completed)+'|'\n",
    "  progress_perc = ' {:.2f}% '.format(100*percentage)\n",
    "  return str(prefix + ' ' + progress_bar + progress_perc + suffix)\n",
    "\n",
    "def predict(model, data, loss_fn):\n",
    "  images, labels = data\n",
    "\n",
    "  images = images.to(device)\n",
    "  labels = labels.to(device)\n",
    "  \n",
    "  # forward pass: model makes prediction\n",
    "  out = model(images)\n",
    "\n",
    "  # computes loss and accuracy\n",
    "  loss = loss_fn(out, labels)\n",
    "  _, pred = torch.max(out, 1)\n",
    "  total = labels.shape[0]\n",
    "  correct = (pred == labels).sum().item()\n",
    "\n",
    "  # returns statistics\n",
    "  return loss, total, correct \n",
    "\n",
    "def train_epoch(model, optimizer, trainloader):\n",
    "  # reset epoch statistics\n",
    "  running_loss = 0.0\n",
    "  total, correct = 0.0, 0.0\n",
    "  it_per_epoch = len(trainloader)\n",
    "\n",
    "  for iteration, data in enumerate(trainloader, 1):\n",
    "    # training step\n",
    "    optimizer.zero_grad()\n",
    "    loss, total_step, correct_step = predict(model, data, loss_fn)\n",
    "    loss.backward()\n",
    "    optimizer.step()\n",
    "\n",
    "    # update statistics\n",
    "    total += total_step\n",
    "    correct += correct_step\n",
    "    running_loss += loss.item()\n",
    "\n",
    "    # print info\n",
    "    loss_msg = 'Running Loss: {:.4f}'.format(running_loss / iteration)\n",
    "    print(progress_bar(iteration, it_per_epoch, suffix=loss_msg), end='\\r')\n",
    "    sys.stdout.flush()\n",
    "  else:\n",
    "    loss_msg = 'Epoch Loss: {:.4f}'.format(running_loss / it_per_epoch)\n",
    "    print(progress_bar(it_per_epoch, it_per_epoch, suffix=loss_msg))\n",
    "\n",
    "  return 100*correct/total\n",
    "\n",
    "def evaluate(model, testloader):\n",
    "  running_loss = 0.0\n",
    "  total, correct = 0.0, 0.0\n",
    "  it_test = len(testloader)\n",
    "\n",
    "  for iteration, data in enumerate(testloader, 1):\n",
    "    # forward function\n",
    "    loss, total_step, correct_step = predict(model, data, loss_fn)\n",
    "\n",
    "    # update statistics\n",
    "    total += total_step\n",
    "    correct += correct_step\n",
    "    running_loss += loss.item()\n",
    "\n",
    "    # print info\n",
    "    loss_msg = 'Running Loss: {:.4f}'.format(running_loss / iteration)\n",
    "    print(progress_bar(iteration, it_test, suffix=loss_msg), end='\\r')\n",
    "    sys.stdout.flush()\n",
    "  else:\n",
    "    loss_msg = 'Test Loss: {:.4f}'.format(running_loss / it_test)\n",
    "    print(progress_bar(it_test, it_test, suffix=loss_msg))\n",
    "\n",
    "  return 100*correct/total"
   ]
  },
  {
   "cell_type": "code",
   "execution_count": 0,
   "metadata": {
    "id": "Lc9h726SWOOT",
    "colab_type": "code",
    "colab": {}
   },
   "outputs": [],
   "source": [
    "class ConvBlock(nn.Module):\n",
    "  # This is an implementation for a custom\n",
    "  # [Conv + Norm + Relu]*2 + MaxPool block\n",
    "  def __init__(self, channel_in, channel_h, channel_out,\n",
    "               kernel_size=3, stride=1, padding=1, activation=nn.ReLU()):\n",
    "    # __init__ method creates the instance of the class\n",
    "    # all attributes are denoted with the self.'name' notation\n",
    "    super(ConvBlock, self).__init__()\n",
    "    self.conv1 = nn.Conv2d(channel_in, channel_h, kernel_size,\n",
    "                           stride=stride, padding=padding)\n",
    "    self.conv2 = nn.Conv2d(channel_h, channel_out, kernel_size,\n",
    "                           stride=stride, padding=padding)\n",
    "    # self.batch_norm_1 = nn.BatchNorm2d(num_features=channel_h)\n",
    "    # self.batch_norm_2 = nn.BatchNorm2d(num_features=channel_out)\n",
    "    self.activation = activation\n",
    "    self.max_pool = nn.MaxPool2d((2,2))\n",
    "\n",
    "  def forward(self, x):\n",
    "    # the forward pass of the network is implemented in this method\n",
    "    # here you can use the module created in the __init__() method\n",
    "    # in this case, the input 'x' is sequentially forwarded to all the modules\n",
    "    x = self.conv1(x)\n",
    "    # x = self.batch_norm_1(x)\n",
    "    x = self.activation(x)\n",
    "    x = self.conv2(x)\n",
    "    # x = self.batch_norm_2(x)\n",
    "    x = self.activation(x)\n",
    "    x = self.max_pool(x)\n",
    "    return x\n",
    "\n",
    "from typing import List\n",
    "\n",
    "class MLP(nn.Module):\n",
    "  # A custom implementation of a multi-layer perceptron with an arbitrary number of layers\n",
    "  # one should specify a list of integer numbers\n",
    "  # (e.g. [512, 256, 64, 10] or [1024, 100])\n",
    "  def __init__(self, layer_size_list: List[int],\n",
    "               activation=nn.ReLU(), drop_prob=None):\n",
    "    super(MLP, self).__init__()\n",
    "    sizes = layer_size_list\n",
    "    self.fc_layers = nn.ModuleList(\n",
    "            [nn.Linear(in_features=in_size, out_features=out_size)\n",
    "              for in_size, out_size in zip(sizes[:-1], sizes[1:])]\n",
    "          )\n",
    "    self.activation = activation\n",
    "    self.flatten = nn.Flatten()\n",
    "\n",
    "    if drop_prob is None:\n",
    "      self.dropout = None\n",
    "    else:\n",
    "      assert 0 < drop_prob < 1, 'Dropout probability must be in range (0,1)'\n",
    "      self.dropout = nn.Dropout(p=drop_prob)\n",
    "\n",
    "  def forward(self, x):\n",
    "    # a more sophisticated forward function to deal with an arbitrary number of layers\n",
    "    # in general, forward function can be arbitrarily complex\n",
    "    x = self.flatten(x)\n",
    "\n",
    "    for i, layer in enumerate(self.fc_layers):\n",
    "      if self.dropout is not None and i != 0:\n",
    "        x = self.dropout(x)\n",
    "      x = layer(x)\n",
    "      x = self.activation(x)\n",
    "\n",
    "    return x"
   ]
  },
  {
   "cell_type": "code",
   "execution_count": 0,
   "metadata": {
    "id": "RjdLM4vLIqNw",
    "colab_type": "code",
    "colab": {}
   },
   "outputs": [],
   "source": [
    "output_size = len(classes)\n",
    "learning_rate = 1e-2\n",
    "\n",
    "model = nn.Sequential(\n",
    "    ConvBlock(channel_in=3, channel_h=32, channel_out=64,\n",
    "              kernel_size=3, stride=1, padding=1, activation=nn.ReLU()),\n",
    "    ConvBlock(channel_in=64, channel_h=128, channel_out=128,\n",
    "              kernel_size=3, stride=1, padding=1, activation=nn.ReLU()),\n",
    "    MLP(layer_size_list=[8*8*128, 1024, output_size],\n",
    "        activation=nn.ReLU(), drop_prob=0.5)\n",
    ").to(device)\n",
    "\n",
    "loss_fn = nn.CrossEntropyLoss()\n",
    "optimizer = torch.optim.SGD(model.parameters(), lr=learning_rate,\n",
    "                            momentum=0.9, nesterov=True)"
   ]
  },
  {
   "cell_type": "code",
   "execution_count": 6,
   "metadata": {
    "id": "3LuiMwtAcb38",
    "colab_type": "code",
    "outputId": "16a6c4e7-abfe-4341-bb18-2db4c5ac3c06",
    "colab": {
     "base_uri": "https://localhost:8080/",
     "height": 816.0
    }
   },
   "outputs": [
    {
     "name": "stdout",
     "output_type": "stream",
     "text": [
      "Starting Epoch 1/10...\n",
      " |---------------------------------------------------------------------------------------------------->| 100.00% Epoch Loss: 4.4086\n",
      "Epoch 1 - Accuracy: 4.03%\n",
      "Starting Epoch 2/10...\n",
      " |---------------------------------------------------------------------------------------------------->| 100.00% Epoch Loss: 3.7610\n",
      "Epoch 2 - Accuracy: 12.74%\n",
      "Evaluating model...\n",
      " |---------------------------------------------------------------------------------------------------->| 100.00% Test Loss: 3.4369\n",
      "Test accuracy: 18.70%\n",
      "Starting Epoch 3/10...\n",
      " |---------------------------------------------------------------------------------------------------->| 100.00% Epoch Loss: 3.3055\n",
      "Epoch 3 - Accuracy: 20.56%\n",
      "Starting Epoch 4/10...\n",
      " |---------------------------------------------------------------------------------------------------->| 100.00% Epoch Loss: 2.8982\n",
      "Epoch 4 - Accuracy: 28.24%\n",
      "Evaluating model...\n",
      " |---------------------------------------------------------------------------------------------------->| 100.00% Test Loss: 2.6685\n",
      "Test accuracy: 33.02%\n",
      "Starting Epoch 5/10...\n",
      " |---------------------------------------------------------------------------------------------------->| 100.00% Epoch Loss: 2.5548\n",
      "Epoch 5 - Accuracy: 34.93%\n",
      "Starting Epoch 6/10...\n",
      " |---------------------------------------------------------------------------------------------------->| 100.00% Epoch Loss: 2.2434\n",
      "Epoch 6 - Accuracy: 41.52%\n",
      "Evaluating model...\n",
      " |---------------------------------------------------------------------------------------------------->| 100.00% Test Loss: 2.3055\n",
      "Test accuracy: 40.52%\n",
      "Starting Epoch 7/10...\n",
      " |---------------------------------------------------------------------------------------------------->| 100.00% Epoch Loss: 1.9381\n",
      "Epoch 7 - Accuracy: 48.26%\n",
      "Starting Epoch 8/10...\n",
      " |---------------------------------------------------------------------------------------------------->| 100.00% Epoch Loss: 1.6208\n",
      "Epoch 8 - Accuracy: 55.68%\n",
      "Evaluating model...\n",
      " |---------------------------------------------------------------------------------------------------->| 100.00% Test Loss: 2.2507\n",
      "Test accuracy: 44.23%\n",
      "Starting Epoch 9/10...\n",
      " |---------------------------------------------------------------------------------------------------->| 100.00% Epoch Loss: 1.3037\n",
      "Epoch 9 - Accuracy: 63.16%\n",
      "Starting Epoch 10/10...\n",
      " |---------------------------------------------------------------------------------------------------->| 100.00% Epoch Loss: 1.0040\n",
      "Epoch 10 - Accuracy: 70.87%\n",
      "Evaluating model...\n",
      " |---------------------------------------------------------------------------------------------------->| 100.00% Test Loss: 2.3711\n",
      "Test accuracy: 43.77%\n",
      "Finished training\n"
     ]
    }
   ],
   "source": [
    "num_epoch = 10\n",
    "eval_every = 2\n",
    "\n",
    "for epoch in range(num_epoch):\n",
    "  model.train()\n",
    "  print('Starting Epoch {}/{}...'.format(epoch+1, num_epoch))\n",
    "  accuracy = train_epoch(model, optimizer, trainloader)\n",
    "  print('Epoch {} - Accuracy: {:.2f}%'.format(epoch+1, accuracy))\n",
    "\n",
    "  if epoch % eval_every == eval_every - 1: \n",
    "    model.eval()\n",
    "    with torch.no_grad():\n",
    "      print('Evaluating model...')\n",
    "      accuracy = evaluate(model, testloader)\n",
    "      print('Test accuracy: {:.2f}%'.format(accuracy))\n",
    "  \n",
    "print('Finished training')"
   ]
  },
  {
   "cell_type": "code",
   "execution_count": 7,
   "metadata": {
    "id": "EVWQrg4VmoM2",
    "colab_type": "code",
    "outputId": "afa4aaaf-60d6-4ddc-e934-10aaa01581ca",
    "colab": {
     "base_uri": "https://localhost:8080/",
     "height": 199.0
    }
   },
   "outputs": [
    {
     "name": "stdout",
     "output_type": "stream",
     "text": [
      "Evaluating model...\n",
      " |---------------------------------------------------------------------------------------------------->| 100.00% Test Loss: 2.3711\n",
      "Test accuracy: 43.77%\n",
      "Showing qualitative results...\n"
     ]
    },
    {
     "data": {
      "image/png": "[encoded data removed]",
      "text/plain": [
       "<Figure size 432x288 with 1 Axes>"
      ]
     },
     "metadata": {
      "tags": []
     },
     "output_type": "display_data"
    },
    {
     "name": "stdout",
     "output_type": "stream",
     "text": [
      "predicted labels: \t ['kangaroo', 'television', 'spider', 'television', 'bus', 'trout', 'castle', 'poppy']\n",
      "ground-truth labels: \t ['spider', 'television', 'spider', 'television', 'bus', 'porcupine', 'castle', 'poppy']\n"
     ]
    }
   ],
   "source": [
    "model.eval()\n",
    "with torch.no_grad():\n",
    "  print('Evaluating model...')\n",
    "  accuracy = evaluate(model, testloader)\n",
    "  print('Test accuracy: {:.2f}%'.format(accuracy))\n",
    "\n",
    "  print ('Showing qualitative results...')\n",
    "  dataiter = iter(testloader)\n",
    "  images, labels = dataiter.next()\n",
    "  images = images.to(device)\n",
    "  labels = labels.to(device)\n",
    "\n",
    "  out = model(images)\n",
    "  _, pred = torch.max(out, 1)\n",
    "\n",
    "  imshow(torchvision.utils.make_grid(images.cpu()[:8] / 2 + 0.5))\n",
    "  print('predicted labels: \\t {}'.format([classes[p] for p in pred[:8]]))\n",
    "  print('ground-truth labels: \\t {}'.format([classes[l] for l in labels[:8]]))"
   ]
  }
 ],
 "metadata": {
  "colab": {
   "name": "convnets.ipynb",
   "provenance": [],
   "collapsed_sections": []
  },
  "kernelspec": {
   "name": "python3",
   "display_name": "Python 3"
  },
  "accelerator": "GPU"
 },
 "nbformat": 4,
 "nbformat_minor": 0
}
