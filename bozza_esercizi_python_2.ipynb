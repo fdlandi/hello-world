{
  "nbformat": 4,
  "nbformat_minor": 0,
  "metadata": {
    "colab": {
      "name": "Untitled2.ipynb",
      "provenance": [],
      "collapsed_sections": []
    },
    "kernelspec": {
      "name": "python3",
      "display_name": "Python 3"
    }
  },
  "cells": [
    {
      "cell_type": "code",
      "metadata": {
        "id": "31MTuEEF5_ZT",
        "colab_type": "code",
        "outputId": "d66e23d7-1805-4325-d36b-c48933f262b4",
        "colab": {
          "base_uri": "https://localhost:8080/",
          "height": 102
        }
      },
      "source": [
        "def my_somma(num1, num2):\n",
        "    somma = num1 + num2\n",
        "    print(\"sto stampando dalla funzione \", somma)\n",
        "\n",
        "def my_somma_1(num1, num2):\n",
        "    somma = num1 + num2\n",
        "    return somma\n",
        "\n",
        "def my_somma_2(num1, num2, sottrai=False):\n",
        "    somma = num1 + num2\n",
        "    if sottrai:\n",
        "        somma = num1 - num2\n",
        "    return somma\n",
        "\n",
        "# def my_somma_3(num1=0, num2, sottrai=False):\n",
        "# SyntaxError: non-default argument follows default argument\n",
        "\n",
        "list1 = []\n",
        "\n",
        "for i in range(10):\n",
        "  list1.append(i)\n",
        "\n",
        "for i in range(0,10,2):\n",
        "    # somma = list1[i] + list1[i+1]\n",
        "    # my_somma(list1[i], list1[i+1])\n",
        "    # somma_calcolata = my_somma_1(list1[i], list1[i+1])\n",
        "    somma_calcolata = my_somma_2(num1=list1[i], num2=list1[i+1], sottrai=True)\n",
        "    print(somma_calcolata)"
      ],
      "execution_count": 0,
      "outputs": [
        {
          "output_type": "stream",
          "text": [
            "-1\n",
            "-1\n",
            "-1\n",
            "-1\n",
            "-1\n"
          ],
          "name": "stdout"
        }
      ]
    },
    {
      "cell_type": "code",
      "metadata": {
        "id": "Ckv2wJeVGqsa",
        "colab_type": "code",
        "outputId": "3cf8e581-871a-4a8f-a8bd-77b53080f6d3",
        "colab": {
          "base_uri": "https://localhost:8080/",
          "height": 51
        }
      },
      "source": [
        "prova_globale = 0\n",
        "\n",
        "def prova():\n",
        "    global prova_globale\n",
        "    prova_globale = 1\n",
        "    print(\"dentro funzione\", prova_globale)\n",
        "\n",
        "prova()\n",
        "print(\"fuori funzione\", prova_globale)"
      ],
      "execution_count": 0,
      "outputs": [
        {
          "output_type": "stream",
          "text": [
            "dentro funzione 1\n",
            "fuori funzione 1\n"
          ],
          "name": "stdout"
        }
      ]
    },
    {
      "cell_type": "code",
      "metadata": {
        "id": "n99HrAfeLknW",
        "colab_type": "code",
        "colab": {}
      },
      "source": [
        "def my_somma_2(num1, num2, sottrai=False):\n",
        "    somma = num1 + num2\n",
        "    if sottrai:\n",
        "        somma = num1 - num2\n",
        "    return somma\n",
        "\n",
        "\n",
        "if __name__ == '__main__':\n",
        "    list1 = []\n",
        "\n",
        "    for i in range(10):\n",
        "      list1.append(i)\n",
        "\n",
        "    for i in range(0,10,2):\n",
        "        # somma = list1[i] + list1[i+1]\n",
        "        # my_somma(list1[i], list1[i+1])\n",
        "        # somma_calcolata = my_somma_1(list1[i], list1[i+1])\n",
        "        somma_calcolata = my_somma_2(num1=list1[i], num2=list1[i+1], sottrai=True)\n",
        "        print(somma_calcolata)\n"
      ],
      "execution_count": 0,
      "outputs": []
    }
  ]
}