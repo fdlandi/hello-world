{
  "nbformat": 4,
  "nbformat_minor": 0,
  "metadata": {
    "colab": {
      "name": "Untitled0.ipynb",
      "provenance": [],
      "collapsed_sections": []
    },
    "kernelspec": {
      "name": "python3",
      "display_name": "Python 3"
    }
  },
  "cells": [
    {
      "cell_type": "code",
      "metadata": {
        "id": "8nV1Ta0z6Dhh",
        "colab_type": "code",
        "outputId": "79560f52-47da-4820-bce5-23f850bda68d",
        "colab": {
          "base_uri": "https://localhost:8080/",
          "height": 139
        }
      },
      "source": [
        "# lista = []\n",
        "# for i in range(10):\n",
        "#   lista.append(i)\n",
        "\n",
        "# print(sum(lista))\n",
        "# print(min(lista))\n",
        "# print(max(lista))\n",
        "# print(sum(lista) / len(lista))\n",
        "\n",
        "class Myclass:\n",
        "  def __init__(self, lista=[]):\n",
        "    pippo = []  # non sarebbe visibile dalle altre funzioni\n",
        "    self.lista = lista\n",
        "    # print(\"dentro la init\")\n",
        "\n",
        "  def check_empty(self):\n",
        "    if len(self.lista) == 0:\n",
        "      return True\n",
        "\n",
        "  def min(self):\n",
        "    if self.check_empty():\n",
        "      return None\n",
        "    return min(self.lista) # non avrei potuto fare return min(pippo)\n",
        "\n",
        "  def max(self):\n",
        "    if self.check_empty():\n",
        "      return None\n",
        "    return max(self.lista)\n",
        "\n",
        "  def append(self, num):\n",
        "    self.lista.append(num)\n",
        "  \n",
        "  def mean(self):\n",
        "    if self.check_empty():\n",
        "      return None\n",
        "    return sum(self.lista) / len(self.lista)\n",
        "\n",
        "  def mean_int(self):\n",
        "    if self.check_empty():\n",
        "      return None\n",
        "    return sum(self.lista) // len(self.lista) # // esegue la divisione intera\n",
        "\n",
        "\n",
        "class Myclass2(Myclass):\n",
        "  def __init__(self, lista=[]):\n",
        "    # super.__init__()\n",
        "    self.lista = lista\n",
        "\n",
        "  def sum(self):\n",
        "    if self.check_empty():\n",
        "      return None\n",
        "    return sum(self.lista)\n",
        "\n",
        "\n",
        "print(\"-------- classe 1\")\n",
        "classe1 = Myclass()\n",
        "print(classe1.min())\n",
        "classe1.append(2)\n",
        "print(classe1.min())\n",
        "\n",
        "print(\"-------- classe 2\")\n",
        "lista2 = [i for i in range(10)]\n",
        "classe2 = Myclass(lista2)\n",
        "print(classe2.max())\n",
        "\n",
        "print(\"-------- classe 3 - Myclass2\")\n",
        "class3 = Myclass2(lista2)\n",
        "print(class3.sum())"
      ],
      "execution_count": 17,
      "outputs": [
        {
          "output_type": "stream",
          "text": [
            "-------- classe 1\n",
            "None\n",
            "2\n",
            "-------- classe 2\n",
            "9\n",
            "-------- classe 3 - Myclass2\n",
            "45\n"
          ],
          "name": "stdout"
        }
      ]
    },
    {
      "cell_type": "code",
      "metadata": {
        "id": "TaddkwWJ4Ash",
        "colab_type": "code",
        "colab": {}
      },
      "source": [
        "lista = [i for i in range(20)]\n",
        "# lista = []\n",
        "# for i in range(10):\n",
        "#   lista.append(i)\n",
        "\n",
        "# [elem for elem in range(10)]\n",
        "lista2 = [elem for elem in lista]\n",
        "lista3 = [elem for elem in lista if elem % 2 == 0]\n",
        "\n"
      ],
      "execution_count": 0,
      "outputs": []
    },
    {
      "cell_type": "code",
      "metadata": {
        "id": "e41lnt4mwPjK",
        "colab_type": "code",
        "colab": {
          "base_uri": "https://localhost:8080/",
          "height": 55
        },
        "outputId": "b1f1afc7-d879-466a-edee-b61fcf65d3ff"
      },
      "source": [
        "f = open(\"prova.txt\", 'r')\n",
        "# lines = f.readlines()\n",
        "\n",
        "lines = []\n",
        "for l in f:\n",
        "  # lines.append(l)\n",
        "  # lines.append(l.split())\n",
        "  lines.extend(l.split())\n",
        "f.close()\n",
        "print(lines)"
      ],
      "execution_count": 41,
      "outputs": [
        {
          "output_type": "stream",
          "text": [
            "['inizio', 'del', 'file', 'dalla', 'lingua', 'hawaiiana', 'e', 'significa', '\"rapido\"', 'o', '\"molto', 'veloce\".', 'A', 'volte', 'i', 'lemma', '\"wikiwiki\"', 'o', '\"WikiWiki\"', 'o', '\"Wikiwiki\"', 'sono', 'usati', 'al', 'posto', 'di', 'wiki.', 'Ward', 'Cunningham', '(il', 'fondatore)', 'si', 'ispirò', 'al', 'nome', 'wiki', 'wiki', 'usato', 'per', 'i', 'bus', 'navetta', \"dell'aeroporto\", 'di', 'Honolulu.', 'Wiki', 'fu', 'la', 'prima', 'parola', 'che', 'egli', 'apprese', 'durante', 'la', 'sua', 'prima', 'visita', 'alle', 'isole', 'Hawaii,', 'quando', 'un', 'addetto', 'lo', 'invitò', 'a', 'prendere', 'un', 'wiki', 'wiki', 'bus', 'operante', 'tra', 'i', 'vari', 'terminal', 'aeroportuali.', 'Cunningham', 'stesso', 'dice:', '«Ho', 'scelto', 'wiki-wiki', 'come', 'sostituto', 'allitterativo', 'di', 'quick,', 'evitando', 'quindi', 'di', 'chiamare', 'questa', 'cosa', 'quick-web.»[4].', 'In', 'realtà,', 'non', 'si', 'conosce', 'la', 'prima', 'attestazione', 'di', 'questa', 'parola', 'nella', 'lingua', 'hawaiana', 'e', 'non', 'si', 'può', 'escludere', 'che', 'essa', 'sia', 'derivata', 'da', 'un', 'adattamento', 'fonetico', 'proprio', 'della', 'parola', 'quickly.', 'WikiWikiWeb', 'è', 'un', 'termine', 'usato', 'a', 'volte', 'per', 'riferirsi', 'in', 'maniera', 'specifica', 'al', 'Portland', 'Pattern', 'Repository,', 'il', 'primo', 'wiki', 'mai', 'esistito.', 'I', 'proponenti', 'di', 'questo', 'utilizzo', 'suggeriscono', 'di', 'usare', 'una', '«w»', 'minuscola', 'per', 'i', 'wiki', 'in', 'generale.', 'Il', 'termine', 'wiki', 'è', 'usato', 'anche', 'come', 'acronimo', 'inverso', \"dell'espressione\", 'inglese', 'What', 'I', 'know', \"it's,\", 'che', 'descrive', 'la', 'sua', 'funzione', 'di', 'condivisione', 'di', 'conoscenza', 'oltre', 'che', 'di', 'scambio', 'e', 'di', 'immagazzinamento.']\n"
          ],
          "name": "stdout"
        }
      ]
    },
    {
      "cell_type": "code",
      "metadata": {
        "id": "Quk4xWS8GnIe",
        "colab_type": "code",
        "colab": {}
      },
      "source": [
        "f = open(\"/content/prova.txt\", \"r+\")\n",
        "\n",
        "# f.write(\"prova\")\n",
        "f.write(\"\\n\")\n",
        "f.write(\"prova_2\")\n",
        "f.seek(0)\n",
        "f.write(\"inizio del file\\n\")\n",
        "f.close()\n",
        "\n",
        "\n"
      ],
      "execution_count": 0,
      "outputs": []
    },
    {
      "cell_type": "code",
      "metadata": {
        "id": "HI2jryNRKuXt",
        "colab_type": "code",
        "colab": {
          "base_uri": "https://localhost:8080/",
          "height": 35
        },
        "outputId": "0729e2b2-203c-4368-82b0-9ba4e0e881bc"
      },
      "source": [
        "try:\n",
        "  f = open(\"/content/prova2.txt\", \"r\")\n",
        "  f.readlines()\n",
        "except:\n",
        "  print(\"file non trovato\")\n"
      ],
      "execution_count": 38,
      "outputs": [
        {
          "output_type": "stream",
          "text": [
            "file non trovato\n"
          ],
          "name": "stdout"
        }
      ]
    },
    {
      "cell_type": "code",
      "metadata": {
        "id": "W-759y8eMzXl",
        "colab_type": "code",
        "colab": {
          "base_uri": "https://localhost:8080/",
          "height": 35
        },
        "outputId": "1b3cc98e-ca4a-46a0-ded0-21ae3f77be75"
      },
      "source": [
        "# import os\n",
        "import os\n",
        "\n",
        "os.listdir(\".\")\n",
        "\n",
        "# \"/\" # linux\n",
        "# \"\\\" # windows\n",
        "\n",
        "# f= open(\"sample_data/dir_prova/prova.txt\", \"r\")\n",
        "# f= open(\"sample_data\\\\dir_prova\\\\prova.txt\", \"r\")\n",
        "\n",
        "file_path = os.path.join(\"sample_data\", \"dir_prova\")\n",
        "p = os.listdir(file_path)[0]\n",
        "\n",
        "fl = os.path.join(file_path, p)\n",
        "# f = open(fl)\n",
        "\n",
        "lista_txt = [os.path.join(file_path, f) for f in os.listdir(file_path) if str(f).endswith(\".txt\")]\n"
      ],
      "execution_count": 64,
      "outputs": [
        {
          "output_type": "execute_result",
          "data": {
            "text/plain": [
              "['sample_data/dir_prova/prova.txt']"
            ]
          },
          "metadata": {
            "tags": []
          },
          "execution_count": 64
        }
      ]
    },
    {
      "cell_type": "code",
      "metadata": {
        "id": "U3dJZMBwQNEv",
        "colab_type": "code",
        "colab": {
          "base_uri": "https://localhost:8080/",
          "height": 35
        },
        "outputId": "74d7850a-b531-49e8-803d-8975bca49b90"
      },
      "source": [
        "from path import Path\n",
        "\n",
        "base_dir = Path(\".\")\n",
        "\n",
        "# base_dir.dirs()\n",
        "file_dir = base_dir / \"sample_data\" / \"dir_prova\"\n",
        "# fl = file_dir.files()\n",
        "fl = file_dir.files(\"*.txt\")\n",
        "fl\n"
      ],
      "execution_count": 66,
      "outputs": [
        {
          "output_type": "execute_result",
          "data": {
            "text/plain": [
              "[Path('./sample_data/dir_prova/prova.txt')]"
            ]
          },
          "metadata": {
            "tags": []
          },
          "execution_count": 66
        }
      ]
    },
    {
      "cell_type": "code",
      "metadata": {
        "id": "VXpd9uK4XoNT",
        "colab_type": "code",
        "colab": {
          "base_uri": "https://localhost:8080/",
          "height": 263
        },
        "outputId": "afbf5fba-5339-43f5-b8f5-370149f60b66"
      },
      "source": [
        "# classe Writer che accetti come parametro in ingresso un nome di un file con path (assoluto o relativo)\n",
        "# quando viene inizializzata la classe creare tale file\n",
        "# crei un funzione che aggiunga contenuto al file, ogni volta inserisca una nuova riga\n",
        "\n",
        "# Creare una classe Reader, come Writer accetti come parametro in ingresso  un file path\n",
        "# quando viene inizializzata leggere il contenuto del file per righe\n",
        "# creare una funzione che dato un numero intero in ingresso ritorni il contenuto di quella riga, None se quella riga a tale indice non esiste\n",
        "\n",
        "# usando le due classi create fare uno script che copi da Reader Writer solo le righe dispari\n",
        "\n",
        "class Writer:\n",
        "  # def close(self):\n",
        "      # self.file.close()\n",
        "\n",
        "  def __del__(self):\n",
        "    self.file.close()\n",
        "\n",
        "  def __init__(self, file_path):\n",
        "    self.file_path = file_path\n",
        "    self.file = open(self.file_path,\"w\")\n",
        "\n",
        "  def add(self, content):\n",
        "    self.file.write(str(content))\n",
        "    self.file.write(\"\\n\")  \n",
        "\n",
        "class Reader:\n",
        "  def __init__(self, file_path):\n",
        "    self.file_path = file_path\n",
        "    self.file = open(self.file_path,\"r\")\n",
        "    self.my_content = self.file.readlines()\n",
        "    self.file.close()\n",
        "\n",
        "  def read(self, index):\n",
        "    return self.my_content[index]\n",
        "\n",
        "  def len(self):\n",
        "    return len(self.my_content)\n",
        "\n",
        "path_f = Path(\".\") / \"sample_data\" / \"dir_prova\" / \"my_cv.txt\"\n",
        "writer = Writer(path_f)\n",
        "writer.add(\"aggiunta prima riga\")\n",
        "\n",
        "reader = Reader(path_f.replace(\"my_cv\", \"cv\"))\n",
        "reader.read(0)\n",
        "\n",
        "for idx in range(reader.len()):\n",
        "  if idx % 2 != 0:\n",
        "    line = reader.read(idx)\n",
        "    writer.add(line)\n",
        "    print(line)\n",
        "\n"
      ],
      "execution_count": 78,
      "outputs": [
        {
          "output_type": "stream",
          "text": [
            "In the late 1960s, computer vision began at universities which were pioneering artificial intelligence. It was meant to mimic the human visual system, as a stepping stone to endowing robots with intelligent behavior.[11] In 1966, it was believed that this could be achieved through a summer project, by attaching a camera to a computer and having it \"describe what it saw\".[12][13]\n",
            "\n",
            "\n",
            "\n",
            "What distinguished computer vision from the prevalent field of digital image processing at that time was a desire to extract three-dimensional structure from images with the goal of achieving full scene understanding. Studies in the 1970s formed the early foundations for many of the computer vision algorithms that exist today, including extraction of edges from images, labeling of lines, non-polyhedral and polyhedral modeling, representation of objects as interconnections of smaller structures, optical flow, and motion estimation.[11]\n",
            "\n",
            "\n",
            "\n",
            "The next decade saw studies based on more rigorous mathematical analysis and quantitative aspects of computer vision. These include the concept of scale-space, the inference of shape from various cues such as shading, texture and focus, and contour models known as snakes. Researchers also realized that many of these mathematical concepts could be treated within the same optimization framework as regularization and Markov random fields.[14] By the 1990s, some of the previous research topics became more active than the others. Research in projective 3-D reconstructions led to better understanding of camera calibration. With the advent of optimization methods for camera calibration, it was realized that a lot of the ideas were already explored in bundle adjustment theory from the field of photogrammetry. This led to methods for sparse 3-D reconstructions of scenes from multiple images. Progress was made on the dense stereo correspondence problem and further multi-view stereo techniques. At the same time, variations of graph cut were used to solve image segmentation. This decade also marked the first time statistical learning techniques were used in practice to recognize faces in images (see Eigenface). Toward the end of the 1990s, a significant change came about with the increased interaction between the fields of computer graphics and computer vision. This included image-based rendering, image morphing, view interpolation, panoramic image stitching and early light-field rendering.[11]\n",
            "\n",
            "\n",
            "\n",
            "Recent work has seen the resurgence of feature-based methods, used in conjunction with machine learning techniques and complex optimization frameworks.[15][16]. The advancement of Deep Learning techniques has brought further life to the field of computer vision. The accuracy of deep learning algorithms on several benchmark computer vision data sets for tasks ranging from classification, segmentation and optical flow has surpassed prior methods.[citation needed]\n"
          ],
          "name": "stdout"
        }
      ]
    }
  ]
}